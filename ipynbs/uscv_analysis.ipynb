{
 "cells": [
  {
   "cell_type": "code",
   "execution_count": 1,
   "id": "765b5aa9",
   "metadata": {},
   "outputs": [],
   "source": [
    "import os\n",
    "import re\n",
    "import time\n",
    "import json\n",
    "from collections import defaultdict\n",
    "\n",
    "import scipy as sc\n",
    "import pandas as pd\n",
    "import numpy as np\n",
    "import matplotlib\n",
    "import matplotlib.pyplot as plt\n"
   ]
  },
  {
   "cell_type": "code",
   "execution_count": 2,
   "id": "d6dfb28b",
   "metadata": {},
   "outputs": [],
   "source": [
    "BASE_DIR = os.path.dirname(os.path.abspath('.'))\n",
    "DATA_DIR = os.path.join(BASE_DIR, 'datas')"
   ]
  },
  {
   "cell_type": "markdown",
   "id": "d89a186f",
   "metadata": {},
   "source": [
    "## Data Description"
   ]
  },
  {
   "cell_type": "code",
   "execution_count": 3,
   "id": "86f01200",
   "metadata": {},
   "outputs": [],
   "source": [
    "uscv_edgelist_fpath = os.path.join(DATA_DIR, 'bill_0-1800_edgelist.tsv')\n",
    "uscv_edgeinfo_fpath = os.path.join(DATA_DIR, 'bill_edgeinfo.tsv')\n",
    "uscv_nodeinfo_fpath = os.path.join(DATA_DIR, 'bill_nodeinfo.tsv')"
   ]
  },
  {
   "cell_type": "code",
   "execution_count": 4,
   "id": "2c22b747",
   "metadata": {},
   "outputs": [],
   "source": [
    "edge_df = pd.read_csv(uscv_edgelist_fpath, sep='\\t')"
   ]
  },
  {
   "cell_type": "code",
   "execution_count": 5,
   "id": "3963a351",
   "metadata": {},
   "outputs": [
    {
     "data": {
      "text/html": [
       "<div>\n",
       "<style scoped>\n",
       "    .dataframe tbody tr th:only-of-type {\n",
       "        vertical-align: middle;\n",
       "    }\n",
       "\n",
       "    .dataframe tbody tr th {\n",
       "        vertical-align: top;\n",
       "    }\n",
       "\n",
       "    .dataframe thead th {\n",
       "        text-align: right;\n",
       "    }\n",
       "</style>\n",
       "<table border=\"1\" class=\"dataframe\">\n",
       "  <thead>\n",
       "    <tr style=\"text-align: right;\">\n",
       "      <th></th>\n",
       "      <th>PersonIdA</th>\n",
       "      <th>PersonIdB</th>\n",
       "      <th>Sign</th>\n",
       "      <th>Time</th>\n",
       "      <th>Note</th>\n",
       "    </tr>\n",
       "  </thead>\n",
       "  <tbody>\n",
       "    <tr>\n",
       "      <th>0</th>\n",
       "      <td>401379</td>\n",
       "      <td>401379</td>\n",
       "      <td>1</td>\n",
       "      <td>1789-08-21</td>\n",
       "      <td>-congress-votes-1-1-h10~NO~NO</td>\n",
       "    </tr>\n",
       "    <tr>\n",
       "      <th>1</th>\n",
       "      <td>401379</td>\n",
       "      <td>401623</td>\n",
       "      <td>1</td>\n",
       "      <td>1789-08-21</td>\n",
       "      <td>-congress-votes-1-1-h10~NO~NO</td>\n",
       "    </tr>\n",
       "    <tr>\n",
       "      <th>2</th>\n",
       "      <td>401379</td>\n",
       "      <td>401881</td>\n",
       "      <td>1</td>\n",
       "      <td>1789-08-21</td>\n",
       "      <td>-congress-votes-1-1-h10~NO~NO</td>\n",
       "    </tr>\n",
       "    <tr>\n",
       "      <th>3</th>\n",
       "      <td>401379</td>\n",
       "      <td>402174</td>\n",
       "      <td>1</td>\n",
       "      <td>1789-08-21</td>\n",
       "      <td>-congress-votes-1-1-h10~NO~NO</td>\n",
       "    </tr>\n",
       "    <tr>\n",
       "      <th>4</th>\n",
       "      <td>401379</td>\n",
       "      <td>402334</td>\n",
       "      <td>1</td>\n",
       "      <td>1789-08-21</td>\n",
       "      <td>-congress-votes-1-1-h10~NO~NO</td>\n",
       "    </tr>\n",
       "    <tr>\n",
       "      <th>...</th>\n",
       "      <td>...</td>\n",
       "      <td>...</td>\n",
       "      <td>...</td>\n",
       "      <td>...</td>\n",
       "      <td>...</td>\n",
       "    </tr>\n",
       "    <tr>\n",
       "      <th>2918846</th>\n",
       "      <td>412146</td>\n",
       "      <td>411193</td>\n",
       "      <td>1</td>\n",
       "      <td>1800-12-22</td>\n",
       "      <td>-congress-votes-6-2-h58~YEA~YEA</td>\n",
       "    </tr>\n",
       "    <tr>\n",
       "      <th>2918847</th>\n",
       "      <td>412146</td>\n",
       "      <td>411874</td>\n",
       "      <td>1</td>\n",
       "      <td>1800-12-22</td>\n",
       "      <td>-congress-votes-6-2-h58~YEA~YEA</td>\n",
       "    </tr>\n",
       "    <tr>\n",
       "      <th>2918848</th>\n",
       "      <td>412146</td>\n",
       "      <td>412031</td>\n",
       "      <td>1</td>\n",
       "      <td>1800-12-22</td>\n",
       "      <td>-congress-votes-6-2-h58~YEA~YEA</td>\n",
       "    </tr>\n",
       "    <tr>\n",
       "      <th>2918849</th>\n",
       "      <td>412146</td>\n",
       "      <td>412131</td>\n",
       "      <td>1</td>\n",
       "      <td>1800-12-22</td>\n",
       "      <td>-congress-votes-6-2-h58~YEA~YEA</td>\n",
       "    </tr>\n",
       "    <tr>\n",
       "      <th>2918850</th>\n",
       "      <td>412146</td>\n",
       "      <td>412146</td>\n",
       "      <td>1</td>\n",
       "      <td>1800-12-22</td>\n",
       "      <td>-congress-votes-6-2-h58~YEA~YEA</td>\n",
       "    </tr>\n",
       "  </tbody>\n",
       "</table>\n",
       "<p>2918851 rows × 5 columns</p>\n",
       "</div>"
      ],
      "text/plain": [
       "         PersonIdA  PersonIdB  Sign         Time  \\\n",
       "0           401379     401379     1  1789-08-21    \n",
       "1           401379     401623     1  1789-08-21    \n",
       "2           401379     401881     1  1789-08-21    \n",
       "3           401379     402174     1  1789-08-21    \n",
       "4           401379     402334     1  1789-08-21    \n",
       "...            ...        ...   ...          ...   \n",
       "2918846     412146     411193     1  1800-12-22    \n",
       "2918847     412146     411874     1  1800-12-22    \n",
       "2918848     412146     412031     1  1800-12-22    \n",
       "2918849     412146     412131     1  1800-12-22    \n",
       "2918850     412146     412146     1  1800-12-22    \n",
       "\n",
       "                                    Note  \n",
       "0          -congress-votes-1-1-h10~NO~NO  \n",
       "1          -congress-votes-1-1-h10~NO~NO  \n",
       "2          -congress-votes-1-1-h10~NO~NO  \n",
       "3          -congress-votes-1-1-h10~NO~NO  \n",
       "4          -congress-votes-1-1-h10~NO~NO  \n",
       "...                                  ...  \n",
       "2918846  -congress-votes-6-2-h58~YEA~YEA  \n",
       "2918847  -congress-votes-6-2-h58~YEA~YEA  \n",
       "2918848  -congress-votes-6-2-h58~YEA~YEA  \n",
       "2918849  -congress-votes-6-2-h58~YEA~YEA  \n",
       "2918850  -congress-votes-6-2-h58~YEA~YEA  \n",
       "\n",
       "[2918851 rows x 5 columns]"
      ]
     },
     "execution_count": 5,
     "metadata": {},
     "output_type": "execute_result"
    }
   ],
   "source": [
    "edge_df"
   ]
  },
  {
   "cell_type": "code",
   "execution_count": 6,
   "id": "792f6922",
   "metadata": {},
   "outputs": [],
   "source": [
    "edgeinfo_df = pd.read_csv(uscv_edgeinfo_fpath, sep='\\t')"
   ]
  },
  {
   "cell_type": "code",
   "execution_count": 7,
   "id": "8ad63d3f",
   "metadata": {},
   "outputs": [
    {
     "data": {
      "text/html": [
       "<div>\n",
       "<style scoped>\n",
       "    .dataframe tbody tr th:only-of-type {\n",
       "        vertical-align: middle;\n",
       "    }\n",
       "\n",
       "    .dataframe tbody tr th {\n",
       "        vertical-align: top;\n",
       "    }\n",
       "\n",
       "    .dataframe thead th {\n",
       "        text-align: right;\n",
       "    }\n",
       "</style>\n",
       "<table border=\"1\" class=\"dataframe\">\n",
       "  <thead>\n",
       "    <tr style=\"text-align: right;\">\n",
       "      <th></th>\n",
       "      <th>Note</th>\n",
       "      <th>Info</th>\n",
       "    </tr>\n",
       "  </thead>\n",
       "  <tbody>\n",
       "    <tr>\n",
       "      <th>0</th>\n",
       "      <td>-congress-votes-1-1-h10</td>\n",
       "      <td>{\"features\": [\"chamber-House\", \"session-1789-M...</td>\n",
       "    </tr>\n",
       "    <tr>\n",
       "      <th>1</th>\n",
       "      <td>-congress-votes-1-1-h11</td>\n",
       "      <td>{\"features\": [\"chamber-House\"], \"url\": \"https:...</td>\n",
       "    </tr>\n",
       "    <tr>\n",
       "      <th>2</th>\n",
       "      <td>-congress-votes-1-1-h12</td>\n",
       "      <td>{\"features\": [\"category-Unknown-Category\", \"ch...</td>\n",
       "    </tr>\n",
       "    <tr>\n",
       "      <th>3</th>\n",
       "      <td>-congress-votes-1-1-h13</td>\n",
       "      <td>{\"features\": [\"category-Unknown-Category\", \"ch...</td>\n",
       "    </tr>\n",
       "    <tr>\n",
       "      <th>4</th>\n",
       "      <td>-congress-votes-1-1-h14</td>\n",
       "      <td>{\"features\": [\"category-Unknown-Category\", \"ch...</td>\n",
       "    </tr>\n",
       "    <tr>\n",
       "      <th>...</th>\n",
       "      <td>...</td>\n",
       "      <td>...</td>\n",
       "    </tr>\n",
       "    <tr>\n",
       "      <th>108181</th>\n",
       "      <td>-congress-votes-99-1986-s736</td>\n",
       "      <td>{\"features\": [\"category-Unknown-Category\", \"ch...</td>\n",
       "    </tr>\n",
       "    <tr>\n",
       "      <th>108182</th>\n",
       "      <td>-congress-votes-99-1986-s737</td>\n",
       "      <td>{\"features\": [\"category-Unknown-Category\", \"ch...</td>\n",
       "    </tr>\n",
       "    <tr>\n",
       "      <th>108183</th>\n",
       "      <td>-congress-votes-99-1986-s738</td>\n",
       "      <td>{\"features\": [\"category-Unknown-Category\", \"ch...</td>\n",
       "    </tr>\n",
       "    <tr>\n",
       "      <th>108184</th>\n",
       "      <td>-congress-votes-99-1986-s739</td>\n",
       "      <td>{\"features\": [\"category-Unknown-Category\", \"ch...</td>\n",
       "    </tr>\n",
       "    <tr>\n",
       "      <th>108185</th>\n",
       "      <td>-congress-votes-99-1986-s740</td>\n",
       "      <td>{\"features\": [\"category-Unknown-Category\", \"ch...</td>\n",
       "    </tr>\n",
       "  </tbody>\n",
       "</table>\n",
       "<p>108186 rows × 2 columns</p>\n",
       "</div>"
      ],
      "text/plain": [
       "                                Note  \\\n",
       "0            -congress-votes-1-1-h10   \n",
       "1            -congress-votes-1-1-h11   \n",
       "2            -congress-votes-1-1-h12   \n",
       "3            -congress-votes-1-1-h13   \n",
       "4            -congress-votes-1-1-h14   \n",
       "...                              ...   \n",
       "108181  -congress-votes-99-1986-s736   \n",
       "108182  -congress-votes-99-1986-s737   \n",
       "108183  -congress-votes-99-1986-s738   \n",
       "108184  -congress-votes-99-1986-s739   \n",
       "108185  -congress-votes-99-1986-s740   \n",
       "\n",
       "                                                     Info  \n",
       "0       {\"features\": [\"chamber-House\", \"session-1789-M...  \n",
       "1       {\"features\": [\"chamber-House\"], \"url\": \"https:...  \n",
       "2       {\"features\": [\"category-Unknown-Category\", \"ch...  \n",
       "3       {\"features\": [\"category-Unknown-Category\", \"ch...  \n",
       "4       {\"features\": [\"category-Unknown-Category\", \"ch...  \n",
       "...                                                   ...  \n",
       "108181  {\"features\": [\"category-Unknown-Category\", \"ch...  \n",
       "108182  {\"features\": [\"category-Unknown-Category\", \"ch...  \n",
       "108183  {\"features\": [\"category-Unknown-Category\", \"ch...  \n",
       "108184  {\"features\": [\"category-Unknown-Category\", \"ch...  \n",
       "108185  {\"features\": [\"category-Unknown-Category\", \"ch...  \n",
       "\n",
       "[108186 rows x 2 columns]"
      ]
     },
     "execution_count": 7,
     "metadata": {},
     "output_type": "execute_result"
    }
   ],
   "source": [
    "edgeinfo_df"
   ]
  },
  {
   "cell_type": "code",
   "execution_count": 8,
   "id": "724e7ffb",
   "metadata": {},
   "outputs": [
    {
     "name": "stdout",
     "output_type": "stream",
     "text": [
      "{'features': ['chamber-House', 'session-1789-Mar-Sep-(1st-Congress)'], 'url': 'https://www.govtrack.us/congress/votes/1-1/h10', 'title': 'TO AMEND THE CONSTITUTIONAL AMENDMENTS RESOLUTION TO ADD THE WORD \"EXPRESSLY\" SO AS TO READ \"THE POWERS NOT EXPRESSLY DELEGATED BY THE CONSTITUTION, NOR PROHIBITED TO THE STATES. ...\".', 'date': 'Aug 21, 1789 .'}\n"
     ]
    }
   ],
   "source": [
    "print(json.loads(edgeinfo_df.iloc[0]['Info']))"
   ]
  },
  {
   "cell_type": "code",
   "execution_count": 9,
   "id": "6611a83f",
   "metadata": {},
   "outputs": [],
   "source": [
    "nodeinfo_df = pd.read_csv(uscv_nodeinfo_fpath, sep='\\t')"
   ]
  },
  {
   "cell_type": "code",
   "execution_count": 10,
   "id": "1b14b5c7",
   "metadata": {},
   "outputs": [
    {
     "data": {
      "text/html": [
       "<div>\n",
       "<style scoped>\n",
       "    .dataframe tbody tr th:only-of-type {\n",
       "        vertical-align: middle;\n",
       "    }\n",
       "\n",
       "    .dataframe tbody tr th {\n",
       "        vertical-align: top;\n",
       "    }\n",
       "\n",
       "    .dataframe thead th {\n",
       "        text-align: right;\n",
       "    }\n",
       "</style>\n",
       "<table border=\"1\" class=\"dataframe\">\n",
       "  <thead>\n",
       "    <tr style=\"text-align: right;\">\n",
       "      <th></th>\n",
       "      <th>PersonId</th>\n",
       "      <th>Info</th>\n",
       "    </tr>\n",
       "  </thead>\n",
       "  <tbody>\n",
       "    <tr>\n",
       "      <th>0</th>\n",
       "      <td>300001</td>\n",
       "      <td>{\"person\": 300001, \"state\": \"HI\", \"district\": ...</td>\n",
       "    </tr>\n",
       "    <tr>\n",
       "      <th>1</th>\n",
       "      <td>300002</td>\n",
       "      <td>{\"person\": 300002, \"state\": \"TN\", \"district\": ...</td>\n",
       "    </tr>\n",
       "    <tr>\n",
       "      <th>2</th>\n",
       "      <td>300003</td>\n",
       "      <td>{\"person\": 300003, \"state\": \"CO\", \"district\": ...</td>\n",
       "    </tr>\n",
       "    <tr>\n",
       "      <th>3</th>\n",
       "      <td>300004</td>\n",
       "      <td>{\"person\": 300004, \"state\": \"VA\", \"district\": ...</td>\n",
       "    </tr>\n",
       "    <tr>\n",
       "      <th>4</th>\n",
       "      <td>300005</td>\n",
       "      <td>{\"person\": 300005, \"state\": \"MT\", \"district\": ...</td>\n",
       "    </tr>\n",
       "    <tr>\n",
       "      <th>...</th>\n",
       "      <td>...</td>\n",
       "      <td>...</td>\n",
       "    </tr>\n",
       "    <tr>\n",
       "      <th>12298</th>\n",
       "      <td>456791</td>\n",
       "      <td>{\"person\": 456791, \"state\": \"WI\", \"district\": ...</td>\n",
       "    </tr>\n",
       "    <tr>\n",
       "      <th>12299</th>\n",
       "      <td>456792</td>\n",
       "      <td>{\"person\": 456792, \"state\": \"CA\", \"district\": ...</td>\n",
       "    </tr>\n",
       "    <tr>\n",
       "      <th>12300</th>\n",
       "      <td>456793</td>\n",
       "      <td>{\"person\": 456793, \"state\": \"NY\", \"district\": ...</td>\n",
       "    </tr>\n",
       "    <tr>\n",
       "      <th>12301</th>\n",
       "      <td>456794</td>\n",
       "      <td>{\"person\": 456794, \"state\": \"AZ\", \"district\": ...</td>\n",
       "    </tr>\n",
       "    <tr>\n",
       "      <th>12302</th>\n",
       "      <td>456795</td>\n",
       "      <td>{\"person\": 456795, \"state\": \"GA\", \"district\": ...</td>\n",
       "    </tr>\n",
       "  </tbody>\n",
       "</table>\n",
       "<p>12303 rows × 2 columns</p>\n",
       "</div>"
      ],
      "text/plain": [
       "       PersonId                                               Info\n",
       "0        300001  {\"person\": 300001, \"state\": \"HI\", \"district\": ...\n",
       "1        300002  {\"person\": 300002, \"state\": \"TN\", \"district\": ...\n",
       "2        300003  {\"person\": 300003, \"state\": \"CO\", \"district\": ...\n",
       "3        300004  {\"person\": 300004, \"state\": \"VA\", \"district\": ...\n",
       "4        300005  {\"person\": 300005, \"state\": \"MT\", \"district\": ...\n",
       "...         ...                                                ...\n",
       "12298    456791  {\"person\": 456791, \"state\": \"WI\", \"district\": ...\n",
       "12299    456792  {\"person\": 456792, \"state\": \"CA\", \"district\": ...\n",
       "12300    456793  {\"person\": 456793, \"state\": \"NY\", \"district\": ...\n",
       "12301    456794  {\"person\": 456794, \"state\": \"AZ\", \"district\": ...\n",
       "12302    456795  {\"person\": 456795, \"state\": \"GA\", \"district\": ...\n",
       "\n",
       "[12303 rows x 2 columns]"
      ]
     },
     "execution_count": 10,
     "metadata": {},
     "output_type": "execute_result"
    }
   ],
   "source": [
    "nodeinfo_df"
   ]
  },
  {
   "cell_type": "code",
   "execution_count": 11,
   "id": "ea100145",
   "metadata": {
    "scrolled": true
   },
   "outputs": [
    {
     "name": "stdout",
     "output_type": "stream",
     "text": [
      "{'person': 300001, 'state': 'HI', 'district': 2, 'name': 'Rep. Daniel Akaka [D, 1977-1990]', 'party': 'Democrat', 'url': 'https://www.govtrack.us/congress/members/daniel_akaka/300001'}\n"
     ]
    }
   ],
   "source": [
    "print(json.loads(nodeinfo_df.iloc[0]['Info']))"
   ]
  },
  {
   "cell_type": "markdown",
   "id": "04e1979e",
   "metadata": {},
   "source": [
    "### Original Vote Data\n",
    "As we said in the paper, the dataset is constructed from vote data.\n",
    "We give the origin dataset as follows."
   ]
  },
  {
   "cell_type": "code",
   "execution_count": 12,
   "id": "570806f5",
   "metadata": {},
   "outputs": [],
   "source": [
    "vote_data_path = os.path.join(DATA_DIR, 'bill_a_c_clean.tsv')"
   ]
  },
  {
   "cell_type": "code",
   "execution_count": 13,
   "id": "7ea58a5b",
   "metadata": {},
   "outputs": [],
   "source": [
    "vote_df = pd.read_csv(vote_data_path, sep='\\t')"
   ]
  },
  {
   "cell_type": "code",
   "execution_count": 14,
   "id": "c5d7d504",
   "metadata": {},
   "outputs": [
    {
     "data": {
      "text/html": [
       "<div>\n",
       "<style scoped>\n",
       "    .dataframe tbody tr th:only-of-type {\n",
       "        vertical-align: middle;\n",
       "    }\n",
       "\n",
       "    .dataframe tbody tr th {\n",
       "        vertical-align: top;\n",
       "    }\n",
       "\n",
       "    .dataframe thead th {\n",
       "        text-align: right;\n",
       "    }\n",
       "</style>\n",
       "<table border=\"1\" class=\"dataframe\">\n",
       "  <thead>\n",
       "    <tr style=\"text-align: right;\">\n",
       "      <th></th>\n",
       "      <th>Unnamed: 0</th>\n",
       "      <th>person_id</th>\n",
       "      <th>bill_name</th>\n",
       "      <th>sign</th>\n",
       "      <th>date</th>\n",
       "      <th>title</th>\n",
       "      <th>year</th>\n",
       "    </tr>\n",
       "  </thead>\n",
       "  <tbody>\n",
       "    <tr>\n",
       "      <th>0</th>\n",
       "      <td>0</td>\n",
       "      <td>400951</td>\n",
       "      <td>-congress-votes-1-1-h10</td>\n",
       "      <td>NOT VOTING</td>\n",
       "      <td>1789-08-21</td>\n",
       "      <td>TO AMEND THE CONSTITUTIONAL AMENDMENTS RESOLUT...</td>\n",
       "      <td>1789</td>\n",
       "    </tr>\n",
       "    <tr>\n",
       "      <th>1</th>\n",
       "      <td>1</td>\n",
       "      <td>401086</td>\n",
       "      <td>-congress-votes-1-1-h10</td>\n",
       "      <td>NOT VOTING</td>\n",
       "      <td>1789-08-21</td>\n",
       "      <td>TO AMEND THE CONSTITUTIONAL AMENDMENTS RESOLUT...</td>\n",
       "      <td>1789</td>\n",
       "    </tr>\n",
       "    <tr>\n",
       "      <th>2</th>\n",
       "      <td>2</td>\n",
       "      <td>401379</td>\n",
       "      <td>-congress-votes-1-1-h10</td>\n",
       "      <td>NO</td>\n",
       "      <td>1789-08-21</td>\n",
       "      <td>TO AMEND THE CONSTITUTIONAL AMENDMENTS RESOLUT...</td>\n",
       "      <td>1789</td>\n",
       "    </tr>\n",
       "    <tr>\n",
       "      <th>3</th>\n",
       "      <td>3</td>\n",
       "      <td>401521</td>\n",
       "      <td>-congress-votes-1-1-h10</td>\n",
       "      <td>NOT VOTING</td>\n",
       "      <td>1789-08-21</td>\n",
       "      <td>TO AMEND THE CONSTITUTIONAL AMENDMENTS RESOLUT...</td>\n",
       "      <td>1789</td>\n",
       "    </tr>\n",
       "    <tr>\n",
       "      <th>4</th>\n",
       "      <td>4</td>\n",
       "      <td>401537</td>\n",
       "      <td>-congress-votes-1-1-h10</td>\n",
       "      <td>NOT VOTING</td>\n",
       "      <td>1789-08-21</td>\n",
       "      <td>TO AMEND THE CONSTITUTIONAL AMENDMENTS RESOLUT...</td>\n",
       "      <td>1789</td>\n",
       "    </tr>\n",
       "    <tr>\n",
       "      <th>...</th>\n",
       "      <td>...</td>\n",
       "      <td>...</td>\n",
       "      <td>...</td>\n",
       "      <td>...</td>\n",
       "      <td>...</td>\n",
       "      <td>...</td>\n",
       "      <td>...</td>\n",
       "    </tr>\n",
       "    <tr>\n",
       "      <th>24821300</th>\n",
       "      <td>24821300</td>\n",
       "      <td>410936</td>\n",
       "      <td>-congress-votes-99-1986-s739</td>\n",
       "      <td>YEA</td>\n",
       "      <td>1986-10-17</td>\n",
       "      <td>TO ADOPT THE CONFERENCE REPORT ON HR 5300, THE...</td>\n",
       "      <td>1986</td>\n",
       "    </tr>\n",
       "    <tr>\n",
       "      <th>24821301</th>\n",
       "      <td>24821301</td>\n",
       "      <td>411271</td>\n",
       "      <td>-congress-votes-99-1986-s739</td>\n",
       "      <td>YEA</td>\n",
       "      <td>1986-10-17</td>\n",
       "      <td>TO ADOPT THE CONFERENCE REPORT ON HR 5300, THE...</td>\n",
       "      <td>1986</td>\n",
       "    </tr>\n",
       "    <tr>\n",
       "      <th>24821302</th>\n",
       "      <td>24821302</td>\n",
       "      <td>411421</td>\n",
       "      <td>-congress-votes-99-1986-s739</td>\n",
       "      <td>NOT VOTING</td>\n",
       "      <td>1986-10-17</td>\n",
       "      <td>TO ADOPT THE CONFERENCE REPORT ON HR 5300, THE...</td>\n",
       "      <td>1986</td>\n",
       "    </tr>\n",
       "    <tr>\n",
       "      <th>24821303</th>\n",
       "      <td>24821303</td>\n",
       "      <td>411762</td>\n",
       "      <td>-congress-votes-99-1986-s739</td>\n",
       "      <td>YEA</td>\n",
       "      <td>1986-10-17</td>\n",
       "      <td>TO ADOPT THE CONFERENCE REPORT ON HR 5300, THE...</td>\n",
       "      <td>1986</td>\n",
       "    </tr>\n",
       "    <tr>\n",
       "      <th>24821304</th>\n",
       "      <td>24821304</td>\n",
       "      <td>412006</td>\n",
       "      <td>-congress-votes-99-1986-s739</td>\n",
       "      <td>NO</td>\n",
       "      <td>1986-10-17</td>\n",
       "      <td>TO ADOPT THE CONFERENCE REPORT ON HR 5300, THE...</td>\n",
       "      <td>1986</td>\n",
       "    </tr>\n",
       "  </tbody>\n",
       "</table>\n",
       "<p>24821305 rows × 7 columns</p>\n",
       "</div>"
      ],
      "text/plain": [
       "          Unnamed: 0  person_id                     bill_name        sign  \\\n",
       "0                  0     400951       -congress-votes-1-1-h10  NOT VOTING   \n",
       "1                  1     401086       -congress-votes-1-1-h10  NOT VOTING   \n",
       "2                  2     401379       -congress-votes-1-1-h10          NO   \n",
       "3                  3     401521       -congress-votes-1-1-h10  NOT VOTING   \n",
       "4                  4     401537       -congress-votes-1-1-h10  NOT VOTING   \n",
       "...              ...        ...                           ...         ...   \n",
       "24821300    24821300     410936  -congress-votes-99-1986-s739         YEA   \n",
       "24821301    24821301     411271  -congress-votes-99-1986-s739         YEA   \n",
       "24821302    24821302     411421  -congress-votes-99-1986-s739  NOT VOTING   \n",
       "24821303    24821303     411762  -congress-votes-99-1986-s739         YEA   \n",
       "24821304    24821304     412006  -congress-votes-99-1986-s739          NO   \n",
       "\n",
       "                date                                              title  year  \n",
       "0         1789-08-21  TO AMEND THE CONSTITUTIONAL AMENDMENTS RESOLUT...  1789  \n",
       "1         1789-08-21  TO AMEND THE CONSTITUTIONAL AMENDMENTS RESOLUT...  1789  \n",
       "2         1789-08-21  TO AMEND THE CONSTITUTIONAL AMENDMENTS RESOLUT...  1789  \n",
       "3         1789-08-21  TO AMEND THE CONSTITUTIONAL AMENDMENTS RESOLUT...  1789  \n",
       "4         1789-08-21  TO AMEND THE CONSTITUTIONAL AMENDMENTS RESOLUT...  1789  \n",
       "...              ...                                                ...   ...  \n",
       "24821300  1986-10-17  TO ADOPT THE CONFERENCE REPORT ON HR 5300, THE...  1986  \n",
       "24821301  1986-10-17  TO ADOPT THE CONFERENCE REPORT ON HR 5300, THE...  1986  \n",
       "24821302  1986-10-17  TO ADOPT THE CONFERENCE REPORT ON HR 5300, THE...  1986  \n",
       "24821303  1986-10-17  TO ADOPT THE CONFERENCE REPORT ON HR 5300, THE...  1986  \n",
       "24821304  1986-10-17  TO ADOPT THE CONFERENCE REPORT ON HR 5300, THE...  1986  \n",
       "\n",
       "[24821305 rows x 7 columns]"
      ]
     },
     "execution_count": 14,
     "metadata": {},
     "output_type": "execute_result"
    }
   ],
   "source": [
    "vote_df"
   ]
  },
  {
   "cell_type": "markdown",
   "id": "9262c54c",
   "metadata": {},
   "source": [
    "## Data Analysis"
   ]
  },
  {
   "cell_type": "markdown",
   "id": "093fc0ba",
   "metadata": {},
   "source": [
    "### House or Senate"
   ]
  },
  {
   "cell_type": "code",
   "execution_count": 15,
   "id": "2d22be48",
   "metadata": {},
   "outputs": [],
   "source": [
    "vote_df['category'] = vote_df['bill_name'].apply(lambda x:x.rpartition('-')[-1][0])"
   ]
  },
  {
   "cell_type": "code",
   "execution_count": 16,
   "id": "b79d5782",
   "metadata": {},
   "outputs": [
    {
     "data": {
      "text/plain": [
       "h    20561951\n",
       "s     4259354\n",
       "Name: category, dtype: int64"
      ]
     },
     "execution_count": 16,
     "metadata": {},
     "output_type": "execute_result"
    }
   ],
   "source": [
    "vote_df.category.value_counts()"
   ]
  },
  {
   "cell_type": "markdown",
   "id": "d79c2979",
   "metadata": {},
   "source": [
    "### Bill  Counts"
   ]
  },
  {
   "cell_type": "code",
   "execution_count": 17,
   "id": "c5c2d288",
   "metadata": {},
   "outputs": [],
   "source": [
    "t = list(map(lambda x:x.rpartition('-')[-1][0], vote_df['bill_name'].unique().tolist()))"
   ]
  },
  {
   "cell_type": "code",
   "execution_count": 18,
   "id": "eafabb61",
   "metadata": {},
   "outputs": [],
   "source": [
    "from collections import Counter\n",
    "c_t = Counter(t)"
   ]
  },
  {
   "cell_type": "code",
   "execution_count": 19,
   "id": "b54c90ab",
   "metadata": {},
   "outputs": [
    {
     "data": {
      "text/plain": [
       "<BarContainer object of 2 artists>"
      ]
     },
     "execution_count": 19,
     "metadata": {},
     "output_type": "execute_result"
    },
    {
     "data": {
      "image/png": "[encoded data removed]",
      "text/plain": [
       "<Figure size 432x288 with 1 Axes>"
      ]
     },
     "metadata": {
      "needs_background": "light"
     },
     "output_type": "display_data"
    }
   ],
   "source": [
    "plt.bar(c_t.keys(), c_t.values())"
   ]
  },
  {
   "cell_type": "markdown",
   "id": "87d24dd6",
   "metadata": {},
   "source": [
    "### Sign Ratio"
   ]
  },
  {
   "cell_type": "code",
   "execution_count": 20,
   "id": "224a985a",
   "metadata": {},
   "outputs": [
    {
     "data": {
      "text/plain": [
       "YEA           11045187\n",
       "NO             6554440\n",
       "NOT VOTING     2674212\n",
       "PRESENT         287399\n",
       "UNKNOWN            713\n",
       "Name: sign, dtype: int64"
      ]
     },
     "execution_count": 20,
     "metadata": {},
     "output_type": "execute_result"
    }
   ],
   "source": [
    "vote_df[vote_df['category'] == 'h']['sign'].value_counts()"
   ]
  },
  {
   "cell_type": "code",
   "execution_count": 21,
   "id": "bceaba54",
   "metadata": {},
   "outputs": [
    {
     "data": {
      "text/plain": [
       "YEA           2039271\n",
       "NO            1454824\n",
       "NOT VOTING     727177\n",
       "PRESENT         38079\n",
       "UNKNOWN             3\n",
       "Name: sign, dtype: int64"
      ]
     },
     "execution_count": 21,
     "metadata": {},
     "output_type": "execute_result"
    }
   ],
   "source": [
    "vote_df[vote_df['category'] == 's']['sign'].value_counts()"
   ]
  },
  {
   "cell_type": "code",
   "execution_count": 22,
   "id": "3e81a9ea",
   "metadata": {},
   "outputs": [],
   "source": [
    "vote_df['year'] = vote_df['date'].apply(lambda x: int(x.split('-')[0]))"
   ]
  },
  {
   "cell_type": "code",
   "execution_count": 23,
   "id": "40cbe76f",
   "metadata": {},
   "outputs": [],
   "source": [
    "df_s = vote_df[vote_df['category'] == 's']\n",
    "df_h = vote_df[vote_df['category'] == 'h']"
   ]
  },
  {
   "cell_type": "markdown",
   "id": "39de1f73",
   "metadata": {},
   "source": [
    "### Time Span"
   ]
  },
  {
   "cell_type": "markdown",
   "id": "00faf068",
   "metadata": {},
   "source": [
    "#### Senate"
   ]
  },
  {
   "cell_type": "code",
   "execution_count": 24,
   "id": "af9b881f",
   "metadata": {
    "scrolled": true
   },
   "outputs": [
    {
     "data": {
      "image/png": "[encoded data removed]",
      "text/plain": [
       "<Figure size 2160x360 with 1 Axes>"
      ]
     },
     "metadata": {
      "needs_background": "light"
     },
     "output_type": "display_data"
    }
   ],
   "source": [
    "df_s_tmp = df_s.groupby('bill_name').agg({'year': 'mean'}).reset_index()\n",
    "ax = df_s_tmp['year'].apply(lambda x: x // 2 * 2).value_counts().sort_index().plot(kind='bar', figsize=(30,5), rot=60)\n",
    "# t = ax.get_xaxis().get_ticklabels()\n",
    "# t2 = [int(i.get_text()) * 2 for i in t]\n",
    "# ax.set_xticklabels(t2, rotation=45)"
   ]
  },
  {
   "cell_type": "markdown",
   "id": "5d99404e",
   "metadata": {},
   "source": [
    "#### House"
   ]
  },
  {
   "cell_type": "code",
   "execution_count": 25,
   "id": "2a919b2c",
   "metadata": {},
   "outputs": [
    {
     "data": {
      "image/png": "[encoded data removed]",
      "text/plain": [
       "<Figure size 2160x360 with 1 Axes>"
      ]
     },
     "metadata": {
      "needs_background": "light"
     },
     "output_type": "display_data"
    }
   ],
   "source": [
    "df_h_tmp = df_h.groupby('bill_name').agg({'year': 'mean'}).reset_index()\n",
    "ax = df_h_tmp['year'].apply(lambda x: x // 2 * 2).value_counts().sort_index().plot(kind='bar', figsize=(30,5), rot=60)\n",
    "# t = ax.get_xaxis().get_ticklabels()\n",
    "# t2 = [int(i.get_text()) * 2 for i in t]\n",
    "# ax.set_xticklabels(t2, rotation=45)"
   ]
  },
  {
   "cell_type": "markdown",
   "id": "d3715ed8",
   "metadata": {},
   "source": [
    "### Negative Link Ratio with Time"
   ]
  },
  {
   "cell_type": "markdown",
   "id": "8df4f037",
   "metadata": {},
   "source": [
    "#### Senate"
   ]
  },
  {
   "cell_type": "code",
   "execution_count": 26,
   "id": "25cd6ff6",
   "metadata": {},
   "outputs": [
    {
     "data": {
      "image/png": "[encoded data removed]",
      "text/plain": [
       "<Figure size 1440x360 with 1 Axes>"
      ]
     },
     "metadata": {
      "needs_background": "light"
     },
     "output_type": "display_data"
    }
   ],
   "source": [
    "df_s1 = df_s[df_s['sign'] == \"YEA\"].groupby('bill_name').agg({'year': 'mean', 'sign': 'count'}).reset_index()\n",
    "df_s1.rename(columns={'sign': 'Y_c'}, inplace=True)\n",
    "df_s2 = df_s[df_s['sign'] == 'NO'].groupby('bill_name').agg({'year': 'mean', 'sign': 'count'}).reset_index()\n",
    "df_s2.rename(columns={'sign': 'N_c'}, inplace=True)\n",
    "df_s3 = df_s1.merge(df_s2, on='bill_name')\n",
    "df_s3['y_ratio'] = df_s3['Y_c']/ (df_s3['N_c'] + df_s3['Y_c'])\n",
    "df_s3['year_t'] = df_s3['year_x'].apply(lambda x: x//2 * 2)\n",
    "ax = df_s3[['year_t', 'y_ratio']].groupby('year_t').agg({'y_ratio':'mean'}).plot.bar(figsize=(20,5), rot=60)\n",
    "# t = ax.get_xaxis().get_ticklabels()\n"
   ]
  },
  {
   "cell_type": "markdown",
   "id": "5baf6865",
   "metadata": {},
   "source": [
    "#### House"
   ]
  },
  {
   "cell_type": "code",
   "execution_count": 27,
   "id": "6e94c217",
   "metadata": {},
   "outputs": [
    {
     "data": {
      "image/png": "[encoded data removed]",
      "text/plain": [
       "<Figure size 1440x360 with 1 Axes>"
      ]
     },
     "metadata": {
      "needs_background": "light"
     },
     "output_type": "display_data"
    }
   ],
   "source": [
    "df_h1 = df_h[df_h['sign'] == \"YEA\"].groupby('bill_name').agg({'year': 'mean', 'sign': 'count'}).reset_index()\n",
    "df_h1.rename(columns={'sign': 'Y_c'}, inplace=True)\n",
    "df_h2 = df_h[df_h['sign'] == 'NO'].groupby('bill_name').agg({'year': 'mean', 'sign': 'count'}).reset_index()\n",
    "df_h2.rename(columns={'sign': 'N_c'}, inplace=True)\n",
    "df_h3 = df_h1.merge(df_h2, on='bill_name')\n",
    "df_h3['y_ratio'] = df_h3['Y_c']/ (df_h3['N_c'] + df_h3['Y_c'])\n",
    "df_h3['year_t'] = df_h3['year_x'].apply(lambda x: x//2 * 2)\n",
    "ax = df_h3[['year_t', 'y_ratio']].groupby('year_t').agg({'y_ratio':'mean'}).plot.bar(figsize=(20,5),  rot=60)"
   ]
  },
  {
   "cell_type": "code",
   "execution_count": null,
   "id": "a4a86571",
   "metadata": {},
   "outputs": [],
   "source": []
  }
 ],
 "metadata": {
  "kernelspec": {
   "display_name": "Python 3",
   "language": "python",
   "name": "python3"
  },
  "language_info": {
   "codemirror_mode": {
    "name": "ipython",
    "version": 3
   },
   "file_extension": ".py",
   "mimetype": "text/x-python",
   "name": "python",
   "nbconvert_exporter": "python",
   "pygments_lexer": "ipython3",
   "version": "3.8.10"
  }
 },
 "nbformat": 4,
 "nbformat_minor": 5
}
