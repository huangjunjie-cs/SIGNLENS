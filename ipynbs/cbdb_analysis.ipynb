{
 "cells": [
  {
   "cell_type": "code",
   "execution_count": 1,
   "metadata": {},
   "outputs": [],
   "source": [
    "import os\n",
    "import re\n",
    "import time\n",
    "import json\n",
    "from collections import defaultdict\n",
    "\n",
    "import scipy as sc\n",
    "import pandas as pd\n",
    "import numpy as np\n",
    "import matplotlib\n",
    "import matplotlib.pyplot as plt\n"
   ]
  },
  {
   "cell_type": "code",
   "execution_count": 2,
   "metadata": {},
   "outputs": [],
   "source": [
    "BASE_DIR = os.path.dirname(os.path.abspath('.'))\n",
    "DATA_DIR = os.path.join(BASE_DIR, 'datas')"
   ]
  },
  {
   "cell_type": "markdown",
   "metadata": {},
   "source": [
    "## Data Description"
   ]
  },
  {
   "cell_type": "code",
   "execution_count": 3,
   "metadata": {},
   "outputs": [],
   "source": [
    "cbdb_edgelist_fpath = os.path.join(DATA_DIR, 'cbdb_edgelist.tsv')\n",
    "cbdb_edgeinfo_fpath = os.path.join(DATA_DIR, 'cbdb_edgeinfo.tsv')\n",
    "cbdb_nodeinfo_fpath = os.path.join(DATA_DIR, 'cbdb_nodeinfo.tsv')"
   ]
  },
  {
   "cell_type": "code",
   "execution_count": 4,
   "metadata": {},
   "outputs": [],
   "source": [
    "edge_df = pd.read_csv(cbdb_edgelist_fpath, sep='\\t')"
   ]
  },
  {
   "cell_type": "code",
   "execution_count": 5,
   "metadata": {},
   "outputs": [
    {
     "data": {
      "text/html": [
       "<div>\n",
       "<style scoped>\n",
       "    .dataframe tbody tr th:only-of-type {\n",
       "        vertical-align: middle;\n",
       "    }\n",
       "\n",
       "    .dataframe tbody tr th {\n",
       "        vertical-align: top;\n",
       "    }\n",
       "\n",
       "    .dataframe thead th {\n",
       "        text-align: right;\n",
       "    }\n",
       "</style>\n",
       "<table border=\"1\" class=\"dataframe\">\n",
       "  <thead>\n",
       "    <tr style=\"text-align: right;\">\n",
       "      <th></th>\n",
       "      <th>PersonIdA</th>\n",
       "      <th>PersonIdB</th>\n",
       "      <th>Sign</th>\n",
       "      <th>Time</th>\n",
       "      <th>Note</th>\n",
       "    </tr>\n",
       "  </thead>\n",
       "  <tbody>\n",
       "    <tr>\n",
       "      <th>0</th>\n",
       "      <td>449689</td>\n",
       "      <td>13575</td>\n",
       "      <td>1</td>\n",
       "      <td>-1</td>\n",
       "      <td>438</td>\n",
       "    </tr>\n",
       "    <tr>\n",
       "      <th>1</th>\n",
       "      <td>40763</td>\n",
       "      <td>10173</td>\n",
       "      <td>1</td>\n",
       "      <td>-1</td>\n",
       "      <td>146</td>\n",
       "    </tr>\n",
       "    <tr>\n",
       "      <th>2</th>\n",
       "      <td>40763</td>\n",
       "      <td>10173</td>\n",
       "      <td>1</td>\n",
       "      <td>-1</td>\n",
       "      <td>146</td>\n",
       "    </tr>\n",
       "    <tr>\n",
       "      <th>3</th>\n",
       "      <td>40763</td>\n",
       "      <td>10173</td>\n",
       "      <td>1</td>\n",
       "      <td>-1</td>\n",
       "      <td>444</td>\n",
       "    </tr>\n",
       "    <tr>\n",
       "      <th>4</th>\n",
       "      <td>40763</td>\n",
       "      <td>10173</td>\n",
       "      <td>1</td>\n",
       "      <td>-1</td>\n",
       "      <td>444</td>\n",
       "    </tr>\n",
       "    <tr>\n",
       "      <th>...</th>\n",
       "      <td>...</td>\n",
       "      <td>...</td>\n",
       "      <td>...</td>\n",
       "      <td>...</td>\n",
       "      <td>...</td>\n",
       "    </tr>\n",
       "    <tr>\n",
       "      <th>149380</th>\n",
       "      <td>93201</td>\n",
       "      <td>176408</td>\n",
       "      <td>1</td>\n",
       "      <td>-1</td>\n",
       "      <td>437</td>\n",
       "    </tr>\n",
       "    <tr>\n",
       "      <th>149381</th>\n",
       "      <td>93201</td>\n",
       "      <td>445999</td>\n",
       "      <td>1</td>\n",
       "      <td>-1</td>\n",
       "      <td>437</td>\n",
       "    </tr>\n",
       "    <tr>\n",
       "      <th>149382</th>\n",
       "      <td>93201</td>\n",
       "      <td>448917</td>\n",
       "      <td>1</td>\n",
       "      <td>-1</td>\n",
       "      <td>437</td>\n",
       "    </tr>\n",
       "    <tr>\n",
       "      <th>149383</th>\n",
       "      <td>93201</td>\n",
       "      <td>93832</td>\n",
       "      <td>1</td>\n",
       "      <td>-1</td>\n",
       "      <td>438</td>\n",
       "    </tr>\n",
       "    <tr>\n",
       "      <th>149384</th>\n",
       "      <td>54424</td>\n",
       "      <td>54414</td>\n",
       "      <td>1</td>\n",
       "      <td>-1</td>\n",
       "      <td>32</td>\n",
       "    </tr>\n",
       "  </tbody>\n",
       "</table>\n",
       "<p>149385 rows × 5 columns</p>\n",
       "</div>"
      ],
      "text/plain": [
       "        PersonIdA  PersonIdB  Sign  Time  Note\n",
       "0          449689      13575     1    -1   438\n",
       "1           40763      10173     1    -1   146\n",
       "2           40763      10173     1    -1   146\n",
       "3           40763      10173     1    -1   444\n",
       "4           40763      10173     1    -1   444\n",
       "...           ...        ...   ...   ...   ...\n",
       "149380      93201     176408     1    -1   437\n",
       "149381      93201     445999     1    -1   437\n",
       "149382      93201     448917     1    -1   437\n",
       "149383      93201      93832     1    -1   438\n",
       "149384      54424      54414     1    -1    32\n",
       "\n",
       "[149385 rows x 5 columns]"
      ]
     },
     "execution_count": 5,
     "metadata": {},
     "output_type": "execute_result"
    }
   ],
   "source": [
    "edge_df"
   ]
  },
  {
   "cell_type": "code",
   "execution_count": 6,
   "metadata": {},
   "outputs": [],
   "source": [
    "edgeinfo_df = pd.read_csv(cbdb_edgeinfo_fpath, sep='\\t')"
   ]
  },
  {
   "cell_type": "code",
   "execution_count": 7,
   "metadata": {
    "scrolled": false
   },
   "outputs": [
    {
     "data": {
      "text/html": [
       "<div>\n",
       "<style scoped>\n",
       "    .dataframe tbody tr th:only-of-type {\n",
       "        vertical-align: middle;\n",
       "    }\n",
       "\n",
       "    .dataframe tbody tr th {\n",
       "        vertical-align: top;\n",
       "    }\n",
       "\n",
       "    .dataframe thead th {\n",
       "        text-align: right;\n",
       "    }\n",
       "</style>\n",
       "<table border=\"1\" class=\"dataframe\">\n",
       "  <thead>\n",
       "    <tr style=\"text-align: right;\">\n",
       "      <th></th>\n",
       "      <th>Note</th>\n",
       "      <th>Info</th>\n",
       "    </tr>\n",
       "  </thead>\n",
       "  <tbody>\n",
       "    <tr>\n",
       "      <th>0</th>\n",
       "      <td>437</td>\n",
       "      <td>{\"Info\": \"\\u8d08\\u8a69\\u3001\\u6587\", \"Sign\": 1}</td>\n",
       "    </tr>\n",
       "    <tr>\n",
       "      <th>1</th>\n",
       "      <td>438</td>\n",
       "      <td>{\"Info\": \"\\u6536\\u5230Y\\u7684\\u8d08\\u8a69\\u300...</td>\n",
       "    </tr>\n",
       "    <tr>\n",
       "      <th>2</th>\n",
       "      <td>43</td>\n",
       "      <td>{\"Info\": \"\\u5893\\u8a8c\\u9298\\u7531Y\\u6240\\u4f5...</td>\n",
       "    </tr>\n",
       "    <tr>\n",
       "      <th>3</th>\n",
       "      <td>44</td>\n",
       "      <td>{\"Info\": \"\\u70baY\\u4f5c\\u5893\\u8a8c\\u9298\", \"S...</td>\n",
       "    </tr>\n",
       "    <tr>\n",
       "      <th>4</th>\n",
       "      <td>33</td>\n",
       "      <td>{\"Info\": \"\\u66f8\\u5e8f\\u7531Y\\u6240\\u4f5c\", \"S...</td>\n",
       "    </tr>\n",
       "    <tr>\n",
       "      <th>...</th>\n",
       "      <td>...</td>\n",
       "      <td>...</td>\n",
       "    </tr>\n",
       "    <tr>\n",
       "      <th>446</th>\n",
       "      <td>547</td>\n",
       "      <td>{\"Info\": \"\\u6c42\\u4ed6\\u4eba\\uff08\\u7b2c\\u4e09...</td>\n",
       "    </tr>\n",
       "    <tr>\n",
       "      <th>447</th>\n",
       "      <td>248</td>\n",
       "      <td>{\"Info\": \"\\u7fa9\\u838a\\u898f\\u77e9\\u5e8f\\u7531...</td>\n",
       "    </tr>\n",
       "    <tr>\n",
       "      <th>448</th>\n",
       "      <td>548</td>\n",
       "      <td>{\"Info\": \"\\u795e\\u9053\\u7891\\u4fc2\\u7531Y\\u541...</td>\n",
       "    </tr>\n",
       "    <tr>\n",
       "      <th>449</th>\n",
       "      <td>189</td>\n",
       "      <td>{\"Info\": \"\\u53cd\\u5c0d\\u8d66\\u514d\", \"Sign\": -1}</td>\n",
       "    </tr>\n",
       "    <tr>\n",
       "      <th>450</th>\n",
       "      <td>508</td>\n",
       "      <td>{\"Info\": \"\\u88abY\\u8831\\u60d1\", \"Sign\": -1}</td>\n",
       "    </tr>\n",
       "  </tbody>\n",
       "</table>\n",
       "<p>451 rows × 2 columns</p>\n",
       "</div>"
      ],
      "text/plain": [
       "     Note                                               Info\n",
       "0     437    {\"Info\": \"\\u8d08\\u8a69\\u3001\\u6587\", \"Sign\": 1}\n",
       "1     438  {\"Info\": \"\\u6536\\u5230Y\\u7684\\u8d08\\u8a69\\u300...\n",
       "2      43  {\"Info\": \"\\u5893\\u8a8c\\u9298\\u7531Y\\u6240\\u4f5...\n",
       "3      44  {\"Info\": \"\\u70baY\\u4f5c\\u5893\\u8a8c\\u9298\", \"S...\n",
       "4      33  {\"Info\": \"\\u66f8\\u5e8f\\u7531Y\\u6240\\u4f5c\", \"S...\n",
       "..    ...                                                ...\n",
       "446   547  {\"Info\": \"\\u6c42\\u4ed6\\u4eba\\uff08\\u7b2c\\u4e09...\n",
       "447   248  {\"Info\": \"\\u7fa9\\u838a\\u898f\\u77e9\\u5e8f\\u7531...\n",
       "448   548  {\"Info\": \"\\u795e\\u9053\\u7891\\u4fc2\\u7531Y\\u541...\n",
       "449   189   {\"Info\": \"\\u53cd\\u5c0d\\u8d66\\u514d\", \"Sign\": -1}\n",
       "450   508        {\"Info\": \"\\u88abY\\u8831\\u60d1\", \"Sign\": -1}\n",
       "\n",
       "[451 rows x 2 columns]"
      ]
     },
     "execution_count": 7,
     "metadata": {},
     "output_type": "execute_result"
    }
   ],
   "source": [
    "edgeinfo_df"
   ]
  },
  {
   "cell_type": "code",
   "execution_count": 8,
   "metadata": {},
   "outputs": [
    {
     "name": "stdout",
     "output_type": "stream",
     "text": [
      "{'Info': '贈詩、文', 'Sign': 1}\n"
     ]
    }
   ],
   "source": [
    "print(json.loads(edgeinfo_df.iloc[0]['Info']))"
   ]
  },
  {
   "cell_type": "code",
   "execution_count": 9,
   "metadata": {},
   "outputs": [],
   "source": [
    "nodeinfo_df = pd.read_csv(cbdb_nodeinfo_fpath, sep='\\t')"
   ]
  },
  {
   "cell_type": "code",
   "execution_count": 10,
   "metadata": {
    "scrolled": false
   },
   "outputs": [
    {
     "data": {
      "text/html": [
       "<div>\n",
       "<style scoped>\n",
       "    .dataframe tbody tr th:only-of-type {\n",
       "        vertical-align: middle;\n",
       "    }\n",
       "\n",
       "    .dataframe tbody tr th {\n",
       "        vertical-align: top;\n",
       "    }\n",
       "\n",
       "    .dataframe thead th {\n",
       "        text-align: right;\n",
       "    }\n",
       "</style>\n",
       "<table border=\"1\" class=\"dataframe\">\n",
       "  <thead>\n",
       "    <tr style=\"text-align: right;\">\n",
       "      <th></th>\n",
       "      <th>PersonId</th>\n",
       "      <th>Info</th>\n",
       "    </tr>\n",
       "  </thead>\n",
       "  <tbody>\n",
       "    <tr>\n",
       "      <th>0</th>\n",
       "      <td>449689</td>\n",
       "      <td>{\"PersonId\": \"449689\", \"EngName\": \"Liu Jing\", ...</td>\n",
       "    </tr>\n",
       "    <tr>\n",
       "      <th>1</th>\n",
       "      <td>436212</td>\n",
       "      <td>{\"PersonId\": \"436212\", \"EngName\": \"Huang Zhuoh...</td>\n",
       "    </tr>\n",
       "    <tr>\n",
       "      <th>2</th>\n",
       "      <td>281900</td>\n",
       "      <td>{\"PersonId\": \"281900\", \"EngName\": \"Wu You\", \"C...</td>\n",
       "    </tr>\n",
       "    <tr>\n",
       "      <th>3</th>\n",
       "      <td>328918</td>\n",
       "      <td>{\"PersonId\": \"328918\", \"EngName\": \"Yang Yugao\"...</td>\n",
       "    </tr>\n",
       "    <tr>\n",
       "      <th>4</th>\n",
       "      <td>395541</td>\n",
       "      <td>{\"PersonId\": \"395541\", \"EngName\": \"Tang Xuzu\",...</td>\n",
       "    </tr>\n",
       "    <tr>\n",
       "      <th>...</th>\n",
       "      <td>...</td>\n",
       "      <td>...</td>\n",
       "    </tr>\n",
       "    <tr>\n",
       "      <th>463354</th>\n",
       "      <td>357829</td>\n",
       "      <td>{\"PersonId\": \"357829\", \"EngName\": \"Li Ru\", \"Ch...</td>\n",
       "    </tr>\n",
       "    <tr>\n",
       "      <th>463355</th>\n",
       "      <td>442762</td>\n",
       "      <td>{\"PersonId\": \"442762\", \"EngName\": \"Yao Ying\", ...</td>\n",
       "    </tr>\n",
       "    <tr>\n",
       "      <th>463356</th>\n",
       "      <td>497925</td>\n",
       "      <td>{\"PersonId\": \"497925\", \"EngName\": \"Wang Lanbi\"...</td>\n",
       "    </tr>\n",
       "    <tr>\n",
       "      <th>463357</th>\n",
       "      <td>389134</td>\n",
       "      <td>{\"PersonId\": \"389134\", \"EngName\": \"Yu Shiling\"...</td>\n",
       "    </tr>\n",
       "    <tr>\n",
       "      <th>463358</th>\n",
       "      <td>15579</td>\n",
       "      <td>{\"PersonId\": \"15579\", \"EngName\": \"Wang Gongzhi...</td>\n",
       "    </tr>\n",
       "  </tbody>\n",
       "</table>\n",
       "<p>463359 rows × 2 columns</p>\n",
       "</div>"
      ],
      "text/plain": [
       "        PersonId                                               Info\n",
       "0         449689  {\"PersonId\": \"449689\", \"EngName\": \"Liu Jing\", ...\n",
       "1         436212  {\"PersonId\": \"436212\", \"EngName\": \"Huang Zhuoh...\n",
       "2         281900  {\"PersonId\": \"281900\", \"EngName\": \"Wu You\", \"C...\n",
       "3         328918  {\"PersonId\": \"328918\", \"EngName\": \"Yang Yugao\"...\n",
       "4         395541  {\"PersonId\": \"395541\", \"EngName\": \"Tang Xuzu\",...\n",
       "...          ...                                                ...\n",
       "463354    357829  {\"PersonId\": \"357829\", \"EngName\": \"Li Ru\", \"Ch...\n",
       "463355    442762  {\"PersonId\": \"442762\", \"EngName\": \"Yao Ying\", ...\n",
       "463356    497925  {\"PersonId\": \"497925\", \"EngName\": \"Wang Lanbi\"...\n",
       "463357    389134  {\"PersonId\": \"389134\", \"EngName\": \"Yu Shiling\"...\n",
       "463358     15579  {\"PersonId\": \"15579\", \"EngName\": \"Wang Gongzhi...\n",
       "\n",
       "[463359 rows x 2 columns]"
      ]
     },
     "execution_count": 10,
     "metadata": {},
     "output_type": "execute_result"
    }
   ],
   "source": [
    "nodeinfo_df"
   ]
  },
  {
   "cell_type": "code",
   "execution_count": 11,
   "metadata": {},
   "outputs": [
    {
     "name": "stdout",
     "output_type": "stream",
     "text": [
      "{'PersonId': '449689', 'EngName': 'Liu Jing', 'ChName': '劉競', 'IndexYear': '', 'Gender': '', 'YearBirth': '', 'DynastyBirth': '', 'EraBirth': '', 'EraYearBirth': '', 'YearDeath': '', 'DynastyDeath': '', 'EraDeath': '', 'EraYearDeath': '', 'YearsLived': '', 'Dynasty': '唐', 'JunWang': '', 'Notes': '', 'url': 'https://cbdb.fas.harvard.edu/cbdbapi/person.php?id=449689&o=json'}\n"
     ]
    }
   ],
   "source": [
    "print(json.loads(nodeinfo_df.iloc[0]['Info']))"
   ]
  },
  {
   "cell_type": "markdown",
   "metadata": {},
   "source": [
    "## Data Analysis"
   ]
  },
  {
   "cell_type": "markdown",
   "metadata": {},
   "source": [
    "### Time Span"
   ]
  },
  {
   "cell_type": "code",
   "execution_count": 12,
   "metadata": {},
   "outputs": [
    {
     "name": "stdout",
     "output_type": "stream",
     "text": [
      "count    30877.000000\n",
      "mean      1180.076627\n",
      "std        135.731470\n",
      "min        117.000000\n",
      "25%       1095.000000\n",
      "50%       1177.000000\n",
      "75%       1235.000000\n",
      "max       1950.000000\n",
      "Name: Time, dtype: float64\n"
     ]
    },
    {
     "data": {
      "text/plain": [
       "<AxesSubplot:>"
      ]
     },
     "execution_count": 12,
     "metadata": {},
     "output_type": "execute_result"
    },
    {
     "data": {
      "image/png": "[encoded data removed]",
      "text/plain": [
       "<Figure size 432x288 with 1 Axes>"
      ]
     },
     "metadata": {
      "needs_background": "light"
     },
     "output_type": "display_data"
    }
   ],
   "source": [
    "print(edge_df['Time'].replace(-1, np.nan).describe())\n",
    "\n",
    "edge_df['Time'].replace(-1, np.nan).hist()"
   ]
  },
  {
   "cell_type": "markdown",
   "metadata": {},
   "source": [
    "### Negative Link  Ratio"
   ]
  },
  {
   "cell_type": "code",
   "execution_count": 13,
   "metadata": {},
   "outputs": [
    {
     "name": "stdout",
     "output_type": "stream",
     "text": [
      "Edge Num 149385\n",
      "Pos Edge Num 144184\n",
      "Neg Edge Num 4875\n"
     ]
    }
   ],
   "source": [
    "edge_num = len(edge_df)\n",
    "pos_edge_num = len(edge_df[edge_df['Sign'] > 0])\n",
    "neg_edge_num = len(edge_df[edge_df['Sign'] < 0])\n",
    "\n",
    "print('Edge Num', edge_num)\n",
    "print('Pos Edge Num', pos_edge_num)\n",
    "print('Neg Edge Num', neg_edge_num)"
   ]
  },
  {
   "cell_type": "markdown",
   "metadata": {},
   "source": [
    "### Negative Link Ratio with Time"
   ]
  },
  {
   "cell_type": "code",
   "execution_count": 17,
   "metadata": {},
   "outputs": [
    {
     "data": {
      "text/plain": [
       "<BarContainer object of 33 artists>"
      ]
     },
     "execution_count": 17,
     "metadata": {},
     "output_type": "execute_result"
    },
    {
     "data": {
      "image/png": "[encoded data removed]",
      "text/plain": [
       "<Figure size 432x288 with 1 Axes>"
      ]
     },
     "metadata": {
      "needs_background": "light"
     },
     "output_type": "display_data"
    }
   ],
   "source": [
    "time_span = 10\n",
    "edge_df_time = edge_df['Time'].replace(-1, np.nan).dropna().astype(int)\n",
    "time_max, time_min = edge_df_time.max(), edge_df_time.min()\n",
    "time_min = 960\n",
    "time_max = 1300\n",
    "i = time_min\n",
    "x = []\n",
    "y = []\n",
    "for j in range(time_min + time_span, time_max, time_span):\n",
    "    edge_tmp = edge_df[(edge_df['Time'] < j) & (edge_df['Time'] >= i)]\n",
    "    edge_num = len(edge_tmp)\n",
    "    pos_edge_num = len(edge_tmp[edge_tmp['Sign'] > 0])\n",
    "    neg_edge_num = len(edge_tmp[edge_tmp['Sign'] < 0])\n",
    "    \n",
    "    x.append((i + j)/2)\n",
    "    ratio = -1 if edge_num == 0 else neg_edge_num / edge_num\n",
    "    y.append(  ratio)\n",
    "    i = j\n",
    "x = np.array(x)\n",
    "y = np.array(y)\n",
    "plt.bar(x, y, width=8)"
   ]
  },
  {
   "cell_type": "code",
   "execution_count": null,
   "metadata": {},
   "outputs": [],
   "source": []
  }
 ],
 "metadata": {
  "kernelspec": {
   "display_name": "Python 3",
   "language": "python",
   "name": "python3"
  },
  "language_info": {
   "codemirror_mode": {
    "name": "ipython",
    "version": 3
   },
   "file_extension": ".py",
   "mimetype": "text/x-python",
   "name": "python",
   "nbconvert_exporter": "python",
   "pygments_lexer": "ipython3",
   "version": "3.8.10"
  }
 },
 "nbformat": 4,
 "nbformat_minor": 4
}
